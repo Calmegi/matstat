{
  "nbformat": 4,
  "nbformat_minor": 0,
  "metadata": {
    "colab": {
      "provenance": [],
      "authorship_tag": "ABX9TyP+muruAZSmHHHe/acOsMU5",
      "include_colab_link": true
    },
    "kernelspec": {
      "name": "python3",
      "display_name": "Python 3"
    },
    "language_info": {
      "name": "python"
    }
  },
  "cells": [
    {
      "cell_type": "markdown",
      "metadata": {
        "id": "view-in-github",
        "colab_type": "text"
      },
      "source": [
        "<a href=\"https://colab.research.google.com/github/Calmegi/matstat/blob/main/lab1.ipynb\" target=\"_parent\"><img src=\"https://colab.research.google.com/assets/colab-badge.svg\" alt=\"Open In Colab\"/></a>"
      ]
    },
    {
      "cell_type": "code",
      "execution_count": 3,
      "metadata": {
        "id": "kOU2R3Bf6IfJ"
      },
      "outputs": [],
      "source": [
        "import math\n",
        "import statistics\n",
        "from scipy import stats as sps\n",
        "import pandas as pd\n",
        "import numpy as np\n",
        "import matplotlib.pyplot as plt"
      ]
    },
    {
      "cell_type": "markdown",
      "source": [
        "**1. Исходные данные**\n"
      ],
      "metadata": {
        "id": "gxx4abTGMqsY"
      }
    },
    {
      "cell_type": "code",
      "source": [
        "x_1 = sps.norm.rvs(size=200, loc=10, scale=2)\n",
        "x_2 = sps.norm.rvs(size=200, loc=5, scale=2)"
      ],
      "metadata": {
        "id": "3znHUT3g6KBo"
      },
      "execution_count": null,
      "outputs": []
    },
    {
      "cell_type": "code",
      "source": [
        "# выведем по 10 первых значений 1-й и 2-й выборки\n",
        "print(x_1[:10])\n",
        "print()\n",
        "print(x_2[:10])"
      ],
      "metadata": {
        "colab": {
          "base_uri": "https://localhost:8080/"
        },
        "id": "SDW1hrynDUv4",
        "outputId": "b0f08005-3af3-47ef-9761-57d3d32672a8"
      },
      "execution_count": null,
      "outputs": [
        {
          "output_type": "stream",
          "name": "stdout",
          "text": [
            "[11.66487529  7.82621565  9.06634688 11.98623858  8.66245264  7.5227848\n",
            " 13.25405499 10.08177735 12.70166805  9.65922729]\n",
            "\n",
            "[4.91353644 3.87768473 4.18505398 5.89237394 4.22086947 4.21450848\n",
            " 6.26071499 6.57595677 1.61375765 7.44306762]\n"
          ]
        }
      ]
    },
    {
      "cell_type": "code",
      "source": [
        "# гистограмма для 1-го распределения (bins - кол-во интервалов всех ячеек равной ширины)\n",
        "plt.hist(x_1, bins=60)\n",
        "plt.show()\n",
        "\n",
        "# гистограмма для 2-го распределения\n",
        "plt.hist(x_2, bins=60)\n",
        "plt.show()"
      ],
      "metadata": {
        "colab": {
          "base_uri": "https://localhost:8080/",
          "height": 843
        },
        "id": "12MgT_MHDi1I",
        "outputId": "ab187c31-e6bc-4c9b-d023-5f6a420a3606"
      },
      "execution_count": null,
      "outputs": [
        {
          "output_type": "display_data",
          "data": {
            "text/plain": [
              "<Figure size 640x480 with 1 Axes>"
            ],
            "image/png": "[encoded data removed]"
          },
          "metadata": {}
        },
        {
          "output_type": "display_data",
          "data": {
            "text/plain": [
              "<Figure size 640x480 with 1 Axes>"
            ],
            "image/png": "[encoded data removed]"
          },
          "metadata": {}
        }
      ]
    },
    {
      "cell_type": "code",
      "source": [
        "mean_1 = x_1.mean()\n",
        "mean_2 = x_2.mean()\n",
        "\n",
        "print('mean_1: {:f}'.format(mean_1))\n",
        "print('mean_2: {:f}'.format(mean_2))\n",
        "\n",
        "var_1 = x_1.var()\n",
        "var_2 = x_2.var()\n",
        "\n",
        "print('var_1: {:f}'.format(var_1))\n",
        "print('var_2: {:f}'.format(var_2))\n",
        "\n",
        "std_1 = x_1.std()\n",
        "std_2 = x_2.std()\n",
        "\n",
        "print('std_1: {:f}'.format(std_1))\n",
        "print('std_2: {:f}'.format(std_2))"
      ],
      "metadata": {
        "colab": {
          "base_uri": "https://localhost:8080/"
        },
        "id": "muCEkGNx8KtR",
        "outputId": "8d537707-57a0-42af-ca71-11d9bc534fc8"
      },
      "execution_count": null,
      "outputs": [
        {
          "output_type": "stream",
          "name": "stdout",
          "text": [
            "mean_1: 9.978734\n",
            "mean_2: 5.203092\n",
            "var_1: 3.919782\n",
            "var_2: 4.226044\n",
            "std_1: 1.979844\n",
            "std_2: 2.055734\n"
          ]
        }
      ]
    },
    {
      "cell_type": "code",
      "source": [
        "#pooled\n",
        "x_p = np.concatenate([x_1, x_2])\n",
        "mean_p = x_p.mean()\n",
        "var_p = x_p.var()\n",
        "std_p = x_p.std()\n",
        "\n",
        "print('mean_p: {:f}'.format(mean_p))\n",
        "print('var_p: {:f}'.format(var_p))\n",
        "print('std_p: {:f}'.format(std_p))"
      ],
      "metadata": {
        "colab": {
          "base_uri": "https://localhost:8080/"
        },
        "id": "mGq7TVR5-0o4",
        "outputId": "4156e40e-178c-47b0-f244-4a6dd9efc61a"
      },
      "execution_count": null,
      "outputs": [
        {
          "output_type": "stream",
          "name": "stdout",
          "text": [
            "mean_p: 7.590913\n",
            "var_p: 9.774602\n",
            "std_p: 3.126436\n"
          ]
        }
      ]
    },
    {
      "cell_type": "markdown",
      "source": [
        "**2. Однопараметрические критерии**\n"
      ],
      "metadata": {
        "id": "0WJm_sJbMj5I"
      }
    },
    {
      "cell_type": "code",
      "source": [
        "from statsmodels.stats.weightstats import ztest as ztest"
      ],
      "metadata": {
        "id": "eXO1uQle_lDg"
      },
      "execution_count": null,
      "outputs": []
    },
    {
      "cell_type": "code",
      "source": [
        "#z-test:\n",
        "#выводим выборочное значение статистики и p-value\n",
        "#при p-value > alpha - гипотеза принимается\n",
        "ztest(x_1, value=10)"
      ],
      "metadata": {
        "colab": {
          "base_uri": "https://localhost:8080/"
        },
        "id": "ywoxOlGS_l0o",
        "outputId": "940452c6-593b-4740-ea39-bdd809d7a790"
      },
      "execution_count": null,
      "outputs": [
        {
          "output_type": "execute_result",
          "data": {
            "text/plain": [
              "(-0.15152322759970205, 0.8795629893969663)"
            ]
          },
          "metadata": {},
          "execution_count": 13
        }
      ]
    },
    {
      "cell_type": "code",
      "source": [
        "#t-test:\n",
        "#выводим выборочное значение статистики и p-value\n",
        "#при p-value > alpha - гипотеза принимается\n",
        "sps.ttest_1samp(a=x_1, popmean=10)"
      ],
      "metadata": {
        "colab": {
          "base_uri": "https://localhost:8080/"
        },
        "id": "yB51LP1JCUb4",
        "outputId": "f60ae5a7-bc6c-4306-eb44-7595b14ec8b6"
      },
      "execution_count": null,
      "outputs": [
        {
          "output_type": "execute_result",
          "data": {
            "text/plain": [
              "TtestResult(statistic=-0.15152322759970205, pvalue=0.879716486447931, df=199)"
            ]
          },
          "metadata": {},
          "execution_count": 15
        }
      ]
    },
    {
      "cell_type": "code",
      "source": [
        "#хи2-test: m - известно\n",
        "#выводим выборочное значение статистики и p-value\n",
        "#при p-value > a - гипотеза принимается\n",
        "\n",
        "def one_sample_chi_test(x, m0, sigma0):\n",
        "    S_squared = 1 / len(x) * sum([(i - m0) ** 2 for i in x])\n",
        "    z = len(x) * S_squared / sigma0 ** 2\n",
        "    f = sps.chi2.cdf(z, df=len(x))\n",
        "    return z, 2 * min(f, 1 - f)"
      ],
      "metadata": {
        "id": "CKFmkf3jDqO4"
      },
      "execution_count": null,
      "outputs": []
    },
    {
      "cell_type": "code",
      "source": [
        "print(one_sample_chi_test(x_1, 10, 2))"
      ],
      "metadata": {
        "colab": {
          "base_uri": "https://localhost:8080/"
        },
        "id": "PlLPCvQbJayI",
        "outputId": "4e301eee-4470-4716-f05c-a29f2f2d3c20"
      },
      "execution_count": null,
      "outputs": [
        {
          "output_type": "stream",
          "name": "stdout",
          "text": [
            "(196.01170919484298, 0.8670878053551644)\n"
          ]
        }
      ]
    },
    {
      "cell_type": "code",
      "source": [
        "#хи2-test: m - неизвестно\n",
        "#выводим выборочное значение статистики и p-value\n",
        "#при p-value > a - гипотеза принимается\n",
        "\n",
        "def one_sample_chi_test_unknown(x, sigma0):\n",
        "    S_squared = sum([(i - x.mean()) ** 2 for i in x]) / (len(x) - 1)\n",
        "    z = (len(x) - 1) * S_squared / sigma0 ** 2\n",
        "    f = sps.chi2.cdf(z, df=len(x)-1)\n",
        "    return z, min(f, 1 - f) / 2"
      ],
      "metadata": {
        "id": "QlQVgcwlKkyY"
      },
      "execution_count": null,
      "outputs": []
    },
    {
      "cell_type": "code",
      "source": [
        "print(one_sample_chi_test_unknown(x_1, 2))"
      ],
      "metadata": {
        "colab": {
          "base_uri": "https://localhost:8080/"
        },
        "id": "4As_B2aFKl6f",
        "outputId": "5cf69062-b0c6-4bf4-b41b-c223080a3c12"
      },
      "execution_count": null,
      "outputs": [
        {
          "output_type": "stream",
          "name": "stdout",
          "text": [
            "(195.98909728415012, 0.22647263165913623)\n"
          ]
        }
      ]
    },
    {
      "cell_type": "markdown",
      "source": [
        "**3. Двухвыборочные критерии**\n"
      ],
      "metadata": {
        "id": "f6BmooDrMZw3"
      }
    },
    {
      "cell_type": "code",
      "source": [
        "sps.ttest_ind(a=x_1, b=x_2, equal_var=True)"
      ],
      "metadata": {
        "colab": {
          "base_uri": "https://localhost:8080/"
        },
        "id": "jB3U1Z5iMXkg",
        "outputId": "30a6e07a-9278-4c71-b66d-3c70494ca293"
      },
      "execution_count": null,
      "outputs": [
        {
          "output_type": "execute_result",
          "data": {
            "text/plain": [
              "TtestResult(statistic=23.60427998322318, pvalue=1.1465669752818078e-77, df=398.0)"
            ]
          },
          "metadata": {},
          "execution_count": 33
        }
      ]
    },
    {
      "cell_type": "code",
      "source": [
        "def two_sample_f_test(x, y, m1, m2):\n",
        "    S_1 = 1 / len(x) * sum([(i - m1) ** 2 for i in x])\n",
        "    S_2 = 1 / len(y) * sum([(i - m2) ** 2 for i in y])\n",
        "    z = S_1 / S_2\n",
        "    f = sps.f.cdf(z, dfn=len(x), dfd=len(y))\n",
        "    return z,  min(f, 1 - f)/2"
      ],
      "metadata": {
        "id": "tLxPJ5lkOjt3"
      },
      "execution_count": null,
      "outputs": []
    },
    {
      "cell_type": "code",
      "source": [
        "print(two_sample_f_test(x_1, x_2, 10, 5))"
      ],
      "metadata": {
        "colab": {
          "base_uri": "https://localhost:8080/"
        },
        "id": "-3Rl7g2MPuOP",
        "outputId": "8009d842-0e71-4c5d-afd2-12ce621e6058"
      },
      "execution_count": null,
      "outputs": [
        {
          "output_type": "stream",
          "name": "stdout",
          "text": [
            "(0.9186706504438458, 0.13729609845101487)\n"
          ]
        }
      ]
    },
    {
      "cell_type": "code",
      "source": [
        "def two_sample_f_test_unknown(x, y):\n",
        "    S_1 = sum([(i - x.mean()) ** 2 for i in x]) / (len(x) - 1)\n",
        "    S_2 = sum([(i - y.mean()) ** 2 for i in y]) / (len(y) - 1)\n",
        "    z = S_1 / S_2\n",
        "    f = sps.f.cdf(z, dfn=len(x)-1, dfd=len(y)-1)\n",
        "    return z, min(f, 1 - f) / 2"
      ],
      "metadata": {
        "id": "vfF7ORM1QLHo"
      },
      "execution_count": null,
      "outputs": []
    },
    {
      "cell_type": "code",
      "source": [
        "print(two_sample_f_test_unknown(x_1, x_2))"
      ],
      "metadata": {
        "colab": {
          "base_uri": "https://localhost:8080/"
        },
        "id": "5d8aPn3yQeXG",
        "outputId": "390fbe27-bf12-4a48-8407-1c0d28cca90e"
      },
      "execution_count": null,
      "outputs": [
        {
          "output_type": "stream",
          "name": "stdout",
          "text": [
            "(0.927529898201666, 0.14904565414129467)\n"
          ]
        }
      ]
    },
    {
      "cell_type": "markdown",
      "source": [
        "**4. Исследование распределений статистик критерия**"
      ],
      "metadata": {
        "id": "B6hw6undUPtn"
      }
    },
    {
      "cell_type": "code",
      "source": [
        "N = 1000\n",
        "Z = []\n",
        "PV = []\n",
        "for i in range(N):\n",
        "    x = sps.norm.rvs(size=200, loc=10, scale=2)\n",
        "    z = (x.mean() - 10) * len(x) ** 0.5 / 2\n",
        "    Z.append(z)\n",
        "    f = sps.norm.cdf(z, loc=0, scale=1)\n",
        "    p =  2 * min(f, 1-f)\n",
        "    PV.append(p)\n",
        "\n",
        "Z = np.array(Z)\n",
        "PV = np.array(PV)"
      ],
      "metadata": {
        "id": "oCtjgfZbUXwP"
      },
      "execution_count": 22,
      "outputs": []
    },
    {
      "cell_type": "code",
      "source": [
        "print(Z.mean())\n",
        "print(Z.var())\n",
        "print(Z.std())\n",
        "\n",
        "print(PV.mean())\n",
        "print(PV.var())\n",
        "print(PV.std())"
      ],
      "metadata": {
        "id": "CD8TtU6aU5uq",
        "colab": {
          "base_uri": "https://localhost:8080/"
        },
        "outputId": "2f156262-0c8b-4107-84f2-5de6e4d0356d"
      },
      "execution_count": 23,
      "outputs": [
        {
          "output_type": "stream",
          "name": "stdout",
          "text": [
            "0.004154677374227417\n",
            "1.013109565104626\n",
            "1.0065334396355772\n",
            "0.49871773299833827\n",
            "0.08394531437785928\n",
            "0.28973317790315156\n"
          ]
        }
      ]
    },
    {
      "cell_type": "code",
      "source": [
        "plt.hist(Z, bins=60)\n",
        "grid = np.linspace(min(Z), max(Z))\n",
        "plt.plot(grid, sps.norm.pdf(grid, 0, 1)*120, lw=3)"
      ],
      "metadata": {
        "colab": {
          "base_uri": "https://localhost:8080/",
          "height": 448
        },
        "id": "ebKsSkhDYlZm",
        "outputId": "123a173b-b4b4-47af-9250-3785a91f2714"
      },
      "execution_count": 33,
      "outputs": [
        {
          "output_type": "execute_result",
          "data": {
            "text/plain": [
              "[<matplotlib.lines.Line2D at 0x7aeb1b465180>]"
            ]
          },
          "metadata": {},
          "execution_count": 33
        },
        {
          "output_type": "display_data",
          "data": {
            "text/plain": [
              "<Figure size 640x480 with 1 Axes>"
            ],
            "image/png": "[encoded data removed]"
          },
          "metadata": {}
        }
      ]
    },
    {
      "cell_type": "code",
      "source": [
        "plt.hist(PV, bins=60)\n",
        "grid = np.linspace(min(PV), max(PV))\n",
        "plt.plot(grid, sps.uniform.pdf(grid, 0, 1)*20, lw=3)"
      ],
      "metadata": {
        "colab": {
          "base_uri": "https://localhost:8080/",
          "height": 448
        },
        "id": "I5jfW-evZ4Nm",
        "outputId": "63a091fe-150d-4c10-9e23-fd9231333d09"
      },
      "execution_count": 31,
      "outputs": [
        {
          "output_type": "execute_result",
          "data": {
            "text/plain": [
              "[<matplotlib.lines.Line2D at 0x7aeb1b6783a0>]"
            ]
          },
          "metadata": {},
          "execution_count": 31
        },
        {
          "output_type": "display_data",
          "data": {
            "text/plain": [
              "<Figure size 640x480 with 1 Axes>"
            ],
            "image/png": "[encoded data removed]"
          },
          "metadata": {}
        }
      ]
    }
  ]
}